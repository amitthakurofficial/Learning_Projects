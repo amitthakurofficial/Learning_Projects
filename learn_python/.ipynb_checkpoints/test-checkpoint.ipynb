{
 "cells": [
  {
   "cell_type": "code",
   "execution_count": null,
   "metadata": {},
   "outputs": [],
   "source": [
    "import sys \n",
    "import getopt \n",
    "  \n",
    "  \n",
    "def full_name(): \n",
    "    first_name = None\n",
    "    last_name = None\n",
    "  \n",
    "    argv = sys.argv[1:] \n",
    "  \n",
    "    try: \n",
    "        opts, args = getopt.getopt(argv, \"f:l:\") \n",
    "      \n",
    "    except: \n",
    "        print(\"Error\") \n",
    "  \n",
    "    for opt, arg in opts: \n",
    "        if opt in ['-f']: \n",
    "            first_name = arg \n",
    "        elif opt in ['-l']: \n",
    "            last_name = arg \n",
    "      \n",
    "  \n",
    "    print( first_name) \n",
    "  \n",
    "full_name()"
   ]
  }
 ],
 "metadata": {
  "kernelspec": {
   "display_name": "Python 3",
   "language": "python",
   "name": "python3"
  },
  "language_info": {
   "codemirror_mode": {
    "name": "ipython",
    "version": 2
   },
   "file_extension": ".py",
   "mimetype": "text/x-python",
   "name": "python",
   "nbconvert_exporter": "python",
   "pygments_lexer": "ipython2",
   "version": "2.7.17"
  }
 },
 "nbformat": 4,
 "nbformat_minor": 2
}
